{
  "nbformat": 4,
  "nbformat_minor": 0,
  "metadata": {
    "colab": {
      "provenance": [],
      "authorship_tag": "ABX9TyOtuvptCTwBIIxdvWdrP7jf",
      "include_colab_link": true
    },
    "kernelspec": {
      "name": "python3",
      "display_name": "Python 3"
    },
    "language_info": {
      "name": "python"
    }
  },
  "cells": [
    {
      "cell_type": "markdown",
      "metadata": {
        "id": "view-in-github",
        "colab_type": "text"
      },
      "source": [
        "<a href=\"https://colab.research.google.com/github/mariola5/Calorie-Intake-Calculator/blob/main/Calorie_intake_calculator.ipynb\" target=\"_parent\"><img src=\"https://colab.research.google.com/assets/colab-badge.svg\" alt=\"Open In Colab\"/></a>"
      ]
    },
    {
      "cell_type": "code",
      "source": [
        "%%writefile calorie.py"
      ],
      "metadata": {
        "colab": {
          "base_uri": "https://localhost:8080/"
        },
        "id": "1xAgBQ3z0wrN",
        "outputId": "d2ef989b-4c50-4dd8-b192-514a8c2847ee"
      },
      "execution_count": null,
      "outputs": [
        {
          "output_type": "stream",
          "name": "stdout",
          "text": [
            "Writing calorie.py\n"
          ]
        }
      ]
    },
    {
      "cell_type": "code",
      "execution_count": null,
      "metadata": {
        "colab": {
          "base_uri": "https://localhost:8080/"
        },
        "id": "Gse2DNaucchK",
        "outputId": "6dbf1036-67e7-4bac-f242-52d98035bf9c"
      },
      "outputs": [
        {
          "output_type": "stream",
          "name": "stdout",
          "text": [
            "{'calories': 733.5, 'total_fat': 32.0, 'protein': 15.55, 'carbohydrate': 96.5, 'sugars': 38.025}\n",
            "Croissant\n",
            "{'calories': 691.0, 'total_fat': 72.0, 'protein': 9.17, 'carbohydrate': 13.86, 'sugars': 3.97}\n",
            "{'calories': 12.5, 'total_fat': 0.1, 'protein': 0.49, 'carbohydrate': 2.94, 'sugars': 1.765}\n",
            "Eggp\n"
          ]
        }
      ],
      "source": [
        "import json  # Import the json module to work with JSON files\n",
        "\n",
        "# Open the nutrition.json file in read mode and load its content into a dictionary\n",
        "with open('nutrition.json', 'r') as json_file:\n",
        "    nutrition_dict = json.load(json_file)  # Load the JSON content into a dictionary\n",
        "\n",
        "# Display the first 5 items of the nutrition dictionary\n",
        "list(nutrition_dict.items())[:5]\n",
        "\n",
        "def nutritional_summary(foods):\n",
        "    assert type(foods) == dict, \"dicionary format\"\n",
        "    dic = { \"calories\": 0, \"total_fat\" : 0, \"protein\" : 0, \"carbohydrate\" : 0, \"sugars\" : 0 }\n",
        "    for key, values in foods.items():\n",
        "        if key not in nutrition_dict.keys():\n",
        "            return key\n",
        "        else:\n",
        "            for nutrient in dic.keys():\n",
        "                if nutrient in nutrition_dict[key]:\n",
        "                    dic[nutrient] += values * nutrition_dict[key][nutrient]/100\n",
        "    return dic\n",
        "\n",
        "\n",
        "print(nutritional_summary({\"Croissants, cheese\": 150, \"Orange juice, raw\": 250}))\n",
        "print(nutritional_summary({\"Croissant\": 150, \"Orange juice\": 250}))\n",
        "print(nutritional_summary({\"Nuts, pecans\": 100,}))\n",
        "print(nutritional_summary({'Eggplant, raw':50}))\n",
        "print(nutritional_summary({'Eggp':50}))"
      ]
    },
    {
      "cell_type": "code",
      "source": [
        "import pytest\n",
        "\n",
        "[pytest]\n",
        "DJANGO_SETTINGS_MODULE = 'calorie.settings'\n",
        "python_files = 'calorie.py'\n",
        "#@pytest.fixture\n",
        "#def init_dic():\n",
        " # return {}\n",
        "\n",
        "#def test_element(init_dic):\n",
        "#  assert nutritional_summary(init_dic) == { \"calories\": 0, \"total_fat\" : 0, \"protein\" : 0, \"carbohydrate\" : 0, \"sugars\" : 0 }\n",
        "\n",
        "\n",
        "# notior and should be tested accordingly.\n",
        "def test_nutritional_summary_with_valid_foods():\n",
        "  # Test with valid foods present in nutrition_dict\n",
        "  foods = {\"Croissants, cheese\": 150, \"Orange juice, raw\": 250}\n",
        "  result = nutritional_summary(foods)\n",
        "  # Add assertions to check the expected values in the result dictionary\n",
        "  assert isinstance(result, dict) #check to make sure a dictionary is returned\n",
        "\n",
        "def test_nutritional_summary_with_invalid_foods():\n",
        "  # Test with foods not present in nutrition_dict\n",
        "  foods = {'Eggplant, raw': 50}\n",
        "  result = nutritional_summary(foods)\n",
        "  # Add assertions to check the expected behavior for invalid foods\n",
        "  assert isinstance(result, dict)\n",
        "\n",
        "if __name__ == \"__main__\":\n",
        "  test_nutritional_summary_with_valid_foods()\n",
        "  test_nutritional_summary_with_invalid_foods()\n"
      ],
      "metadata": {
        "id": "lZwSOFGIj5eg"
      },
      "execution_count": 51,
      "outputs": []
    },
    {
      "cell_type": "code",
      "source": [],
      "metadata": {
        "id": "jy2Tssd5z_H3"
      },
      "execution_count": null,
      "outputs": []
    },
    {
      "cell_type": "code",
      "source": [
        "[pytest]\n",
        "python_files = 'calorie.py'\n",
        "!python /content/calorie.py\n",
        "!pytest /content/calorie.py"
      ],
      "metadata": {
        "colab": {
          "base_uri": "https://localhost:8080/"
        },
        "id": "ZzipDD5ugTZR",
        "outputId": "03d8b40f-3dfe-4af0-9d3b-8d130d2765a0"
      },
      "execution_count": 60,
      "outputs": [
        {
          "output_type": "stream",
          "name": "stdout",
          "text": [
            "\u001b[1m======================================= test session starts ========================================\u001b[0m\n",
            "platform linux -- Python 3.10.12, pytest-8.3.4, pluggy-1.5.0\n",
            "rootdir: /content\n",
            "plugins: anyio-3.7.1, typeguard-4.4.1\n",
            "\u001b[1mcollecting ... \u001b[0m\u001b[1m\rcollected 0 items                                                                                  \u001b[0m\n",
            "\n",
            "\u001b[33m====================================== \u001b[33mno tests ran\u001b[0m\u001b[33m in 0.01s\u001b[0m\u001b[33m =======================================\u001b[0m\n"
          ]
        }
      ]
    },
    {
      "cell_type": "code",
      "source": [],
      "metadata": {
        "id": "wZsH-uDf86TT"
      },
      "execution_count": null,
      "outputs": []
    }
  ]
}