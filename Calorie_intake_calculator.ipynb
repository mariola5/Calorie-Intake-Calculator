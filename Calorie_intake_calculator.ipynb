{
  "nbformat": 4,
  "nbformat_minor": 0,
  "metadata": {
    "colab": {
      "provenance": [],
      "authorship_tag": "ABX9TyMj4Tt/vJ/4yqZwmkpVGvEi",
      "include_colab_link": true
    },
    "kernelspec": {
      "name": "python3",
      "display_name": "Python 3"
    },
    "language_info": {
      "name": "python"
    }
  },
  "cells": [
    {
      "cell_type": "markdown",
      "metadata": {
        "id": "view-in-github",
        "colab_type": "text"
      },
      "source": [
        "<a href=\"https://colab.research.google.com/github/mariola5/Calorie-Intake-Calculator/blob/main/Calorie_intake_calculator.ipynb\" target=\"_parent\"><img src=\"https://colab.research.google.com/assets/colab-badge.svg\" alt=\"Open In Colab\"/></a>"
      ]
    },
    {
      "cell_type": "code",
      "execution_count": 2,
      "metadata": {
        "colab": {
          "base_uri": "https://localhost:8080/"
        },
        "id": "Gse2DNaucchK",
        "outputId": "24722b93-e3e2-48a5-b7bd-02afdcfb0ea4"
      },
      "outputs": [
        {
          "output_type": "stream",
          "name": "stdout",
          "text": [
            "{'calories': 733.5, 'total_fat': 32.0, 'protein': 15.55, 'carbohydrate': 96.5, 'sugars': 38.025}\n",
            "Croissant\n",
            "{'calories': 691.0, 'total_fat': 72.0, 'protein': 9.17, 'carbohydrate': 13.86, 'sugars': 3.97}\n",
            "{'calories': 12.5, 'total_fat': 0.1, 'protein': 0.49, 'carbohydrate': 2.94, 'sugars': 1.765}\n",
            "Eggp\n"
          ]
        }
      ],
      "source": [
        "import json  # Import the json module to work with JSON files\n",
        "\n",
        "# Open the nutrition.json file in read mode and load its content into a dictionary\n",
        "with open('nutrition.json', 'r') as json_file:\n",
        "    nutrition_dict = json.load(json_file)  # Load the JSON content into a dictionary\n",
        "\n",
        "# Display the first 5 items of the nutrition dictionary\n",
        "list(nutrition_dict.items())[:5]\n",
        "\n",
        "def nutritional_summary(foods):\n",
        "    assert type(foods) == dict, \"dicionary format\"\n",
        "    dic = { \"calories\": 0, \"total_fat\" : 0, \"protein\" : 0, \"carbohydrate\" : 0, \"sugars\" : 0 }\n",
        "    for key, values in foods.items():\n",
        "        if key not in nutrition_dict.keys():\n",
        "            return key\n",
        "        else:\n",
        "            for nutrient in dic.keys():\n",
        "                if nutrient in nutrition_dict[key]:\n",
        "                    dic[nutrient] += values * nutrition_dict[key][nutrient]/100\n",
        "    return dic\n",
        "\n",
        "\n",
        "print(nutritional_summary({\"Croissants, cheese\": 150, \"Orange juice, raw\": 250}))\n",
        "print(nutritional_summary({\"Croissant\": 150, \"Orange juice\": 250}))\n",
        "print(nutritional_summary({\"Nuts, pecans\": 100,}))\n",
        "print(nutritional_summary({'Eggplant, raw':50}))\n",
        "print(nutritional_summary({'Eggp':50}))"
      ]
    },
    {
      "cell_type": "code",
      "source": [],
      "metadata": {
        "id": "ZzipDD5ugTZR"
      },
      "execution_count": null,
      "outputs": []
    }
  ]
}