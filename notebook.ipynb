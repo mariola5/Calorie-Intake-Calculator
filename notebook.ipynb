import json  # Import the json module to work with JSON files

# Open the nutrition.json file in read mode and load its content into a dictionary
with open('nutrition.json', 'r') as json_file:
    nutrition_dict = json.load(json_file)  # Load the JSON content into a dictionary
    
# Display the first 5 items of the nutrition dictionary
list(nutrition_dict.items())[:5]

def nutritional_summary(foods):
    assert type(foods) == dict, "dicionary format"
    dic = { "calories": 0, "total_fat" : 0, "protein" : 0, "carbohydrate" : 0, "sugars" : 0 }
    for key, values in foods.items():
        if key not in nutrition_dict.keys():
            return key
        else:
            for nutrient in dic.keys():
                if nutrient in nutrition_dict[key]:
                    dic[nutrient] += values * nutrition_dict[key][nutrient]/100
    return dic


print(nutritional_summary({"Croissants, cheese": 150, "Orange juice, raw": 250}))
print(nutritional_summary({"Croissant": 150, "Orange juice": 250}))
print(nutritional_summary({"Nuts, pecans": 100,}))
print(nutritional_summary({'Eggplant, raw':50}))
print(nutritional_summary({'Eggp':50}))
